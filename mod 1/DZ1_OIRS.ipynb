{
 "cells": [
  {
   "cell_type": "markdown",
   "id": "a97dab4e",
   "metadata": {},
   "source": [
    "# Домашнее задание № 1 по курсу \"Обнаружение и распознавание сигналов\"\n",
    "\n",
    "### Мусина Камила, ИУ8-82\n",
    "\n",
    "#### Выбранные 3 интереса:\n",
    "1. Разработка на С/С++ (Программирование)\n",
    "2. Кинематограф\n",
    "3. Изучение немецкого языка\n",
    "\n",
    "#### Признаки аккаунтов:\n",
    "1. День рождения\n",
    "2. Пол\n",
    "3. Количество друзей\n",
    "4. Количество подписок на группы\n",
    "5. Номер мобильного телефона\n",
    "6. Количество фотографий\n",
    "7. Семейное положение\n",
    "8. Количество подписок на публичные страницы\n",
    "9. Информация о внешних ссылках (указана/отсутствует)\n",
    "10. ID пользователя\n",
    "11. Количество подписчиков\n",
    "12. Информация о месте обучения (указана/отсутствует)\n",
    "13. Информация о месте работы (указана/отсутствует)\n",
    "14. Дата последней сессии в вк\n",
    "15. Политические предпочтения \n",
    "    1 — коммунистические\n",
    "    2 — социалистические\n",
    "    3 — умеренные\n",
    "    4 — либеральные\n",
    "    5 — консервативные\n",
    "    6 — монархические\n",
    "    7 — ультраконсервативные\n",
    "    8 — индифферентные\n",
    "    9 — либертарианские\n",
    "16. Главное в людях\n",
    "    1 — ум и креативность\n",
    "    2 — доброта и честность\n",
    "    3 — красота и здоровье\n",
    "    4 — власть и богатство\n",
    "    5 — смелость и упорство\n",
    "    6 — юмор и жизнелюбие\n",
    "17. Главное в жизни\n",
    "    1 — семья и дети\n",
    "    2 — карьера и деньги\n",
    "    3 — развлечения и отдых\n",
    "    4 — наука и исследования\n",
    "    5 — совершенствование мира\n",
    "    6 — саморазвитие\n",
    "    7 — красота и искусство\n",
    "    8 — слава и влияние\n",
    "18. Количество добавленных фотоальбомов\n",
    "19. Количество добавленной музыки\n",
    "20. Количество добавленных видео"
   ]
  },
  {
   "cell_type": "code",
   "execution_count": 23,
   "id": "494b4dad",
   "metadata": {},
   "outputs": [],
   "source": [
    "import vk\n",
    "import csv\n",
    "import requests\n",
    "import time\n",
    "\n",
    "token = 'token'\n",
    "group_list = ['cpp_lib', 'cinemakinoart', 'ldeutsch']\n",
    "all_users = []"
   ]
  },
  {
   "cell_type": "markdown",
   "id": "eb747fc4",
   "metadata": {},
   "source": [
    "## Сбор ID пользователей по интересам"
   ]
  },
  {
   "cell_type": "code",
   "execution_count": 24,
   "id": "edc5de44",
   "metadata": {},
   "outputs": [],
   "source": [
    "def get_users(group_id):\n",
    "    good_id_list = []\n",
    "    offset = 0\n",
    "    response = requests.get('https://api.vk.com/method/groups.getMembers', params={\n",
    "        'access_token':token,\n",
    "        'v':5.103,\n",
    "        'group_id': group_id,\n",
    "        'sort':'id_desc',\n",
    "        'offset':offset,\n",
    "        'fields':'last_seen'\n",
    "    }).json()['response']\n",
    "    for item in response['items']:\n",
    "        try:\n",
    "            if item['last_seen']['time'] >= 1677500000 and item['is_closed'] is False:\n",
    "                good_id_list.append(item['id'])\n",
    "        except Exception as E:\n",
    "            continue\n",
    "    return good_id_list"
   ]
  },
  {
   "cell_type": "markdown",
   "id": "150d8c13",
   "metadata": {},
   "source": [
    "## Парсер по страницам пользователей ВК"
   ]
  },
  {
   "cell_type": "code",
   "execution_count": 25,
   "id": "0d8efa90",
   "metadata": {},
   "outputs": [],
   "source": [
    "def parse_id(ids, group):\n",
    "    parsed_data = []\n",
    "    info = vk_api.users.get(user_id=ids, fields='''sex, bdate, relation, career, counters, personal, contacts, connections, last_seen''')\n",
    "  \n",
    "    i = 0\n",
    "    for id in info:\n",
    "        result = []\n",
    "        result.append(group)\n",
    "        result.append(id[u'id'])\n",
    "        result.append(id[u'sex'])\n",
    "        result.append(id[u'last_seen'][u'time'])\n",
    "        result.append(1 if  u'university' in id else 0)\n",
    "        if u'counters' in id:\n",
    "            result.append(id[u'counters'][u'friends'])\n",
    "            result.append(id[u'counters'][u'audios'] if u'audios' in u'counters' else 0)\n",
    "            result.append(id[u'counters'][u'photos'])\n",
    "            result.append(id[u'counters'][u'groups'])\n",
    "            result.append(id[u'counters'][u'followers'])\n",
    "            result.append(id[u'counters'][u'pages'] if u'pages' in u'counters' else 0)\n",
    "            result.append(id[u'counters'][u'albums'] if u'albums' in u'counters' else 0)\n",
    "        else:\n",
    "            for i in range(6):\n",
    "                result.append(0)\n",
    "        result.append(id[u'bdate'] if  u'bdate' in id  else 0)\n",
    "        result.append(id[u'relation'] if u'relation' in id else 0)\n",
    "        result.append(1 if  u'career' in id else 0)\n",
    "        if u'personal' in id:\n",
    "            result.append(id[u'personal'][u'political'] if u'political' in id else 0)\n",
    "            result.append(id[u'personal'][u'people_main'] if u'people_main' in id else 0)\n",
    "            result.append(id[u'personal'][u'life_main'] if u'life_main' in id else 0)\n",
    "        else:\n",
    "            for i in range(3):\n",
    "                result.append(0)\n",
    "        result.append(1 if  u'mobile_phone' in id else 0)\n",
    "        result.append(1 if  u'connections' in id else 0)\n",
    "        parsed_data.append(result)\n",
    "        \n",
    "    return parsed_data"
   ]
  },
  {
   "cell_type": "code",
   "execution_count": 28,
   "id": "d5e6f9ce",
   "metadata": {},
   "outputs": [],
   "source": [
    "vk_api = vk.API(access_token=token, v='11.9.9')\n",
    "\n",
    "for group in group_list:\n",
    "    try:\n",
    "        users = get_users(group)\n",
    "        parsed_users = parse_id(users, 1 if group == 'cpp_lib' else (2 if group == 'cinemakinoart' else 3))\n",
    "        for i in range(len(parsed_users)):\n",
    "            all_users.append(parsed_users[i])\n",
    "        time.sleep(1)\n",
    "    except KeyError as E:\n",
    "        print(group, E)\n",
    "        continue\n"
   ]
  },
  {
   "cell_type": "markdown",
   "id": "bb39011c",
   "metadata": {},
   "source": [
    "## Создание csv-датасета"
   ]
  },
  {
   "cell_type": "code",
   "execution_count": 29,
   "id": "9e9a1f55",
   "metadata": {},
   "outputs": [],
   "source": [
    "with open('vk_dataset.csv', 'w', newline = '') as csvfile:\n",
    "    filewriter = csv.writer(csvfile, delimiter=',',\n",
    "    quotechar='|', quoting=csv.QUOTE_MINIMAL)\n",
    "    filewriter.writerow(['Interest', 'ID', 'Sex', 'Last Seen', 'University', 'Friends',\n",
    "                         'Audios', 'Photos', 'Groups', 'Followers', 'Pages', 'Albums',\n",
    "                         'Birthday', 'Relation Status', 'Career', 'Political View', \n",
    "                         'People Main', 'Life Main', 'Mobile Phone', 'Connections', 'Video'])\n",
    "    for user in all_users:\n",
    "        filewriter.writerows(all_users)"
   ]
  }
 ],
 "metadata": {
  "kernelspec": {
   "display_name": "Python 3 (ipykernel)",
   "language": "python",
   "name": "python3"
  },
  "language_info": {
   "codemirror_mode": {
    "name": "ipython",
    "version": 3
   },
   "file_extension": ".py",
   "mimetype": "text/x-python",
   "name": "python",
   "nbconvert_exporter": "python",
   "pygments_lexer": "ipython3",
   "version": "3.9.7"
  }
 },
 "nbformat": 4,
 "nbformat_minor": 5
}
